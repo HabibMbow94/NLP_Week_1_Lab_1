{
  "cells": [
    {
      "cell_type": "markdown",
      "metadata": {
        "id": "bg4Dh88mUaKn"
      },
      "source": [
        "In this second part of the lab, we will implement a language identifier trained on the same data, but using Logistic Regression instead of Naive Bayes."
      ]
    },
    {
      "cell_type": "code",
      "execution_count": 1,
      "metadata": {
        "id": "2KIw5YmnUaKp"
      },
      "outputs": [],
      "source": [
        "import io, sys, math\n",
        "import numpy as np\n",
        "from collections import defaultdict"
      ]
    },
    {
      "cell_type": "markdown",
      "metadata": {
        "id": "wg2l_kOXUaKq"
      },
      "source": [
        "This function is used to build the dictionary, or vocabulary, which is a mapping from strings (or words) to integers (or indices). This will allow to build vector representations of documents. "
      ]
    },
    {
      "cell_type": "code",
      "execution_count": 2,
      "metadata": {
        "id": "I8S4UE7WUaKr"
      },
      "outputs": [],
      "source": [
        "def build_dict(filename, threshold=1):\n",
        "    fin = io.open(filename, 'r', encoding='utf-8')\n",
        "    word_dict, label_dict = {}, {}\n",
        "    counts = defaultdict(lambda: 0)\n",
        "    for line in fin:\n",
        "        tokens = line.split()\n",
        "        label = tokens[0]\n",
        "\n",
        "        if not label in label_dict:\n",
        "            label_dict[label] = len(label_dict)\n",
        "\n",
        "        for w in tokens[1:]:\n",
        "            counts[w] += 1\n",
        "            \n",
        "    for k, v in counts.items():\n",
        "        if v > threshold:\n",
        "            word_dict[k] = len(word_dict)\n",
        "    return word_dict, label_dict"
      ]
    },
    {
      "cell_type": "code",
      "source": [
        "word_dict, label_dict = build_dict(\"/content/drive/MyDrive/NLP_Week_1_Labs_2022/session1/train1.txt\")"
      ],
      "metadata": {
        "id": "Sune-XMEzAbf"
      },
      "execution_count": 3,
      "outputs": []
    },
    {
      "cell_type": "code",
      "source": [
        "from google.colab import drive\n",
        "drive.mount('/content/drive')"
      ],
      "metadata": {
        "colab": {
          "base_uri": "https://localhost:8080/"
        },
        "id": "y-T0mVpnU3U8",
        "outputId": "f3115ea1-6219-4a3c-b40d-952e2058983c"
      },
      "execution_count": 5,
      "outputs": [
        {
          "output_type": "stream",
          "name": "stdout",
          "text": [
            "Mounted at /content/drive\n"
          ]
        }
      ]
    },
    {
      "cell_type": "markdown",
      "metadata": {
        "id": "ZaF-tyTPUaKr"
      },
      "source": [
        "This function is used to load the training dataset, and build vector representations of the training examples. In particular, a document or sentence is represented as a bag of words. Each example correspond to a sparse vector ` x` of dimension `V`, where `V` is the size of the vocabulary. The element `j` of the vector `x` is the number of times the word `j` appears in the document."
      ]
    },
    {
      "cell_type": "code",
      "execution_count": 4,
      "metadata": {
        "id": "3TQXaJN7UaKr"
      },
      "outputs": [],
      "source": [
        "def load_data(filename, word_dict, label_dict):\n",
        "    fin = io.open(filename, 'r', encoding='utf-8')\n",
        "    data = []\n",
        "    dim = len(word_dict)\n",
        "    for line in fin:\n",
        "        tokens = line.split()\n",
        "        label = tokens[0]\n",
        "\n",
        "        yi = label_dict[label]\n",
        "        xi = np.zeros(dim)\n",
        "        for word in tokens[1:]:\n",
        "            if word in word_dict:\n",
        "                wid = word_dict[word]\n",
        "                xi[wid] += 1.0\n",
        "        data.append((yi, xi))\n",
        "    return data"
      ]
    },
    {
      "cell_type": "markdown",
      "metadata": {
        "id": "hgnQVjy5UaKs"
      },
      "source": [
        "First, let's implement the softmax function. Don't forget numerical stability!"
      ]
    },
    {
      "cell_type": "code",
      "execution_count": 5,
      "metadata": {
        "id": "sHYVNmmkUaKt"
      },
      "outputs": [],
      "source": [
        "def softmax(x):\n",
        "  ### FILL CODE\n",
        "  ex = np.exp(x - np.max(x))\n",
        "  return ex/np.sum(ex, axis =0)"
      ]
    },
    {
      "cell_type": "markdown",
      "metadata": {
        "id": "MbSt9GH8UaKt"
      },
      "source": [
        "Now, let's implement the main training loop, by using stochastic gradient descent. The function will iterate over the examples of the training set. For each example, we will first compute the loss, before computing the gradient and performing the update."
      ]
    },
    {
      "cell_type": "code",
      "execution_count": 11,
      "metadata": {
        "id": "DQ7yaPTeUaKt"
      },
      "outputs": [],
      "source": [
        "def sgd(w, data, niter):\n",
        "    nlabels, dim = w.shape\n",
        "    for iter in range(niter):\n",
        "      loss = 0.0\n",
        "      for y,x in data:\n",
        "        z = np.dot(w,x)\n",
        "        # label predict\n",
        "        lab_pred = softmax(z)\n",
        "\n",
        "        # compute loss softmax\n",
        "        loss += -(1/len(data))*np.sum(np.log(lab_pred[y]))\n",
        "        \n",
        "        # compute gradient softmax\n",
        "        grad = lab_pred - y\n",
        "        zero_vec=np.zeros(nlabels)\n",
        "        zero_vec[y]= 1.0\n",
        "        grad= grad-zero_vec\n",
        "        grad = grad.reshape(nlabels, 1)*x.reshape((1, dim))\n",
        "\n",
        "        # Update w\n",
        "        w = w - 0.01*grad\n",
        "      print(\"iteration: %02d loss: %.3f\" % (iter, loss))\n",
        "    return w"
      ]
    },
    {
      "cell_type": "markdown",
      "metadata": {
        "id": "qbfE-fbJUaKu"
      },
      "source": [
        "The next function will predict the most probable label corresponding to example `x`, given the trained classifier `w`."
      ]
    },
    {
      "cell_type": "code",
      "execution_count": 12,
      "metadata": {
        "id": "J3R3P1z8UaKu"
      },
      "outputs": [],
      "source": [
        "def predict(w, x):\n",
        "  ## FILL CODE\n",
        "  z = w@x\n",
        "  lab_pred = softmax(z)\n",
        "  pred = np.argmax(lab_pred)\n",
        "  return pred\n"
      ]
    },
    {
      "cell_type": "markdown",
      "metadata": {
        "id": "G67B9iWaUaKu"
      },
      "source": [
        "Finally, this function will compute the accuracy of a trained classifier `w` on a validation set."
      ]
    },
    {
      "cell_type": "code",
      "execution_count": 35,
      "metadata": {
        "id": "Ec1aNMx2UaKu"
      },
      "outputs": [],
      "source": [
        "def compute_accuracy(w, valid_data):\n",
        "  acc = 0.00\n",
        "  for y, x in valid_data:\n",
        "    \n",
        "    lab_pred = predict(w, x)\n",
        "    y_equal= np.where(lab_pred==y,1,0)\n",
        "    if y_equal == 1:\n",
        "      acc +=1\n",
        "  acc = acc/len(valid_data)\n",
        "  return acc  \n",
        "    ## FILL CODE"
      ]
    },
    {
      "cell_type": "code",
      "execution_count": 36,
      "metadata": {
        "id": "mHd1z1PBUaKv",
        "colab": {
          "base_uri": "https://localhost:8080/"
        },
        "outputId": "0d4ce0d6-a981-42ac-eb51-d8217f0f91f3"
      },
      "outputs": [
        {
          "output_type": "stream",
          "name": "stdout",
          "text": [
            "\n",
            "** Logistic Regression **\n",
            "\n",
            "iteration: 00 loss: 1.643\n",
            "iteration: 01 loss: 1.133\n",
            "iteration: 02 loss: 0.931\n",
            "iteration: 03 loss: 0.812\n",
            "iteration: 04 loss: 0.730\n",
            "\n",
            "Validation accuracy: 0.889\n",
            "\n"
          ]
        }
      ],
      "source": [
        "print(\"\")\n",
        "print(\"** Logistic Regression **\", )\n",
        "print(\"\")\n",
        "\n",
        "word_dict, label_dict = build_dict(\"/content/drive/MyDrive/NLP_Week_1_Labs_2022/session1/train1.txt\")\n",
        "train_data = load_data(\"/content/drive/MyDrive/NLP_Week_1_Labs_2022/session1/train1.txt\", word_dict, label_dict)\n",
        "valid_data = load_data(\"/content/drive/MyDrive/NLP_Week_1_Labs_2022/session1/valid1.txt\", word_dict, label_dict)\n",
        "\n",
        "nlabels = len(label_dict)\n",
        "dim = len(word_dict)\n",
        "w = np.zeros([nlabels, dim])\n",
        "w = sgd(w, train_data, 5)\n",
        "print(\"\")\n",
        "print(\"Validation accuracy: %.3f\" % compute_accuracy(w, valid_data))\n",
        "print(\"\")"
      ]
    },
    {
      "cell_type": "code",
      "source": [
        ""
      ],
      "metadata": {
        "id": "5THm-uHaMObh"
      },
      "execution_count": null,
      "outputs": []
    }
  ],
  "metadata": {
    "kernelspec": {
      "display_name": "Python 3",
      "language": "python",
      "name": "python3"
    },
    "language_info": {
      "codemirror_mode": {
        "name": "ipython",
        "version": 3
      },
      "file_extension": ".py",
      "mimetype": "text/x-python",
      "name": "python",
      "nbconvert_exporter": "python",
      "pygments_lexer": "ipython3",
      "version": "3.6.2+"
    },
    "colab": {
      "name": "Habib_MBOW_logistic_regression.ipynb",
      "provenance": [],
      "collapsed_sections": []
    }
  },
  "nbformat": 4,
  "nbformat_minor": 0
}